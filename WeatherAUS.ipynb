{
  "nbformat": 4,
  "nbformat_minor": 0,
  "metadata": {
    "colab": {
      "name": "WeatherAUS.ipynb",
      "version": "0.3.2",
      "provenance": [],
      "toc_visible": true,
      "include_colab_link": true
    },
    "kernelspec": {
      "name": "python3",
      "display_name": "Python 3"
    }
  },
  "cells": [
    {
      "cell_type": "markdown",
      "metadata": {
        "id": "view-in-github",
        "colab_type": "text"
      },
      "source": [
        "<a href=\"https://colab.research.google.com/github/MykolaRobot/ML_homework_1/blob/master/WeatherAUS.ipynb\" target=\"_parent\"><img src=\"https://colab.research.google.com/assets/colab-badge.svg\" alt=\"Open In Colab\"/></a>"
      ]
    },
    {
      "metadata": {
        "id": "lXyrZP9gd9Ot",
        "colab_type": "code",
        "outputId": "6af92afa-7b96-4566-9b19-4bd92932c24e",
        "colab": {
          "resources": {
            "http://localhost:8080/nbextensions/google.colab/files.js": {
              "data": "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",
              "ok": true,
              "headers": [
                [
                  "content-type",
                  "application/javascript"
                ]
              ],
              "status": 200,
              "status_text": ""
            }
          },
          "base_uri": "https://localhost:8080/",
          "height": 72
        }
      },
      "cell_type": "code",
      "source": [
        "from google.colab import files\n",
        "\n",
        "uploaded = files.upload()\n"
      ],
      "execution_count": 5,
      "outputs": [
        {
          "output_type": "display_data",
          "data": {
            "text/html": [
              "\n",
              "     <input type=\"file\" id=\"files-04e30e31-1be2-4252-8e9c-e9e497064e7c\" name=\"files[]\" multiple disabled />\n",
              "     <output id=\"result-04e30e31-1be2-4252-8e9c-e9e497064e7c\">\n",
              "      Upload widget is only available when the cell has been executed in the\n",
              "      current browser session. Please rerun this cell to enable.\n",
              "      </output>\n",
              "      <script src=\"/nbextensions/google.colab/files.js\"></script> "
            ],
            "text/plain": [
              "<IPython.core.display.HTML object>"
            ]
          },
          "metadata": {
            "tags": []
          }
        },
        {
          "output_type": "stream",
          "text": [
            "Saving knn.py to knn.py\n"
          ],
          "name": "stdout"
        }
      ]
    },
    {
      "metadata": {
        "id": "aIOkvi1zgnr1",
        "colab_type": "code",
        "colab": {}
      },
      "cell_type": "code",
      "source": [
        "import pandas as pd\n",
        "import knn\n",
        "import data_preprocessing\n"
      ],
      "execution_count": 0,
      "outputs": []
    },
    {
      "metadata": {
        "id": "Osg8BH9rhEMF",
        "colab_type": "code",
        "colab": {}
      },
      "cell_type": "code",
      "source": [
        "df=pd.read_csv('weatherAUS.csv')"
      ],
      "execution_count": 0,
      "outputs": []
    },
    {
      "metadata": {
        "id": "xauh69zMgsjd",
        "colab_type": "code",
        "outputId": "edb1497e-bb60-47b2-cf22-17a634450074",
        "colab": {
          "base_uri": "https://localhost:8080/",
          "height": 34
        }
      },
      "cell_type": "code",
      "source": [
        "# shape of data\n",
        "df.shape"
      ],
      "execution_count": 44,
      "outputs": [
        {
          "output_type": "execute_result",
          "data": {
            "text/plain": [
              "(140493, 14)"
            ]
          },
          "metadata": {
            "tags": []
          },
          "execution_count": 44
        }
      ]
    },
    {
      "metadata": {
        "id": "9gZvS2cSgxcD",
        "colab_type": "text"
      },
      "cell_type": "markdown",
      "source": [
        "The target columns is 'RainTomorrow'."
      ]
    },
    {
      "metadata": {
        "id": "FpDvCPgXguvm",
        "colab_type": "code",
        "outputId": "fe928fd0-1d1b-43b4-ab1d-bb2bf3f16fce",
        "colab": {
          "base_uri": "https://localhost:8080/",
          "height": 306
        }
      },
      "cell_type": "code",
      "source": [
        "# columns types\n",
        "df.dtypes"
      ],
      "execution_count": 0,
      "outputs": [
        {
          "output_type": "execute_result",
          "data": {
            "text/plain": [
              "Unnamed: 0         int64\n",
              "MinTemp          float64\n",
              "MaxTemp          float64\n",
              "Rainfall         float64\n",
              "WindGustSpeed    float64\n",
              "WindSpeed9am     float64\n",
              "WindSpeed3pm     float64\n",
              "Humidity9am      float64\n",
              "Humidity3pm      float64\n",
              "Pressure9am      float64\n",
              "Pressure3pm      float64\n",
              "Temp9am          float64\n",
              "Temp3pm          float64\n",
              "RainToday        float64\n",
              "RISK_MM          float64\n",
              "RainTomorrow       int64\n",
              "dtype: object"
            ]
          },
          "metadata": {
            "tags": []
          },
          "execution_count": 55
        }
      ]
    },
    {
      "metadata": {
        "id": "lVmtaIRHgu0b",
        "colab_type": "code",
        "outputId": "5de69e7b-7e0b-4ef9-91c8-73025a3d57ab",
        "colab": {
          "base_uri": "https://localhost:8080/",
          "height": 317
        }
      },
      "cell_type": "code",
      "source": [
        "# get stat info about numerical columns\n",
        "df.describe()"
      ],
      "execution_count": 0,
      "outputs": [
        {
          "output_type": "execute_result",
          "data": {
            "text/html": [
              "<div>\n",
              "<style scoped>\n",
              "    .dataframe tbody tr th:only-of-type {\n",
              "        vertical-align: middle;\n",
              "    }\n",
              "\n",
              "    .dataframe tbody tr th {\n",
              "        vertical-align: top;\n",
              "    }\n",
              "\n",
              "    .dataframe thead th {\n",
              "        text-align: right;\n",
              "    }\n",
              "</style>\n",
              "<table border=\"1\" class=\"dataframe\">\n",
              "  <thead>\n",
              "    <tr style=\"text-align: right;\">\n",
              "      <th></th>\n",
              "      <th>MinTemp</th>\n",
              "      <th>MaxTemp</th>\n",
              "      <th>Rainfall</th>\n",
              "      <th>WindGustSpeed</th>\n",
              "      <th>WindSpeed9am</th>\n",
              "      <th>WindSpeed3pm</th>\n",
              "      <th>Humidity9am</th>\n",
              "      <th>Humidity3pm</th>\n",
              "      <th>Pressure9am</th>\n",
              "      <th>Pressure3pm</th>\n",
              "      <th>Temp9am</th>\n",
              "      <th>Temp3pm</th>\n",
              "      <th>RainToday</th>\n",
              "      <th>RainTomorrow</th>\n",
              "    </tr>\n",
              "  </thead>\n",
              "  <tbody>\n",
              "    <tr>\n",
              "      <th>count</th>\n",
              "      <td>139962.000000</td>\n",
              "      <td>140232.000000</td>\n",
              "      <td>139243.000000</td>\n",
              "      <td>132424.000000</td>\n",
              "      <td>139532.000000</td>\n",
              "      <td>138277.000000</td>\n",
              "      <td>138929.000000</td>\n",
              "      <td>137134.000000</td>\n",
              "      <td>127666.000000</td>\n",
              "      <td>127708.000000</td>\n",
              "      <td>139669.000000</td>\n",
              "      <td>137883.000000</td>\n",
              "      <td>139243.000000</td>\n",
              "      <td>140493.000000</td>\n",
              "    </tr>\n",
              "    <tr>\n",
              "      <th>mean</th>\n",
              "      <td>12.172039</td>\n",
              "      <td>23.211285</td>\n",
              "      <td>2.340711</td>\n",
              "      <td>39.993725</td>\n",
              "      <td>14.045882</td>\n",
              "      <td>18.685450</td>\n",
              "      <td>68.821528</td>\n",
              "      <td>51.441240</td>\n",
              "      <td>1017.658367</td>\n",
              "      <td>1015.263870</td>\n",
              "      <td>16.969569</td>\n",
              "      <td>21.672260</td>\n",
              "      <td>0.223250</td>\n",
              "      <td>0.223805</td>\n",
              "    </tr>\n",
              "    <tr>\n",
              "      <th>std</th>\n",
              "      <td>6.408711</td>\n",
              "      <td>7.129024</td>\n",
              "      <td>8.387726</td>\n",
              "      <td>13.589596</td>\n",
              "      <td>8.873230</td>\n",
              "      <td>8.773953</td>\n",
              "      <td>19.075249</td>\n",
              "      <td>20.807944</td>\n",
              "      <td>7.107772</td>\n",
              "      <td>7.038742</td>\n",
              "      <td>6.502860</td>\n",
              "      <td>6.948344</td>\n",
              "      <td>0.416426</td>\n",
              "      <td>0.416794</td>\n",
              "    </tr>\n",
              "    <tr>\n",
              "      <th>min</th>\n",
              "      <td>-8.500000</td>\n",
              "      <td>-4.800000</td>\n",
              "      <td>0.000000</td>\n",
              "      <td>6.000000</td>\n",
              "      <td>0.000000</td>\n",
              "      <td>0.000000</td>\n",
              "      <td>0.000000</td>\n",
              "      <td>0.000000</td>\n",
              "      <td>980.500000</td>\n",
              "      <td>977.100000</td>\n",
              "      <td>-7.200000</td>\n",
              "      <td>-5.400000</td>\n",
              "      <td>0.000000</td>\n",
              "      <td>0.000000</td>\n",
              "    </tr>\n",
              "    <tr>\n",
              "      <th>25%</th>\n",
              "      <td>7.600000</td>\n",
              "      <td>17.900000</td>\n",
              "      <td>0.000000</td>\n",
              "      <td>31.000000</td>\n",
              "      <td>7.000000</td>\n",
              "      <td>13.000000</td>\n",
              "      <td>57.000000</td>\n",
              "      <td>36.000000</td>\n",
              "      <td>1013.000000</td>\n",
              "      <td>1010.500000</td>\n",
              "      <td>12.200000</td>\n",
              "      <td>16.600000</td>\n",
              "      <td>0.000000</td>\n",
              "      <td>0.000000</td>\n",
              "    </tr>\n",
              "    <tr>\n",
              "      <th>50%</th>\n",
              "      <td>12.000000</td>\n",
              "      <td>22.600000</td>\n",
              "      <td>0.000000</td>\n",
              "      <td>39.000000</td>\n",
              "      <td>13.000000</td>\n",
              "      <td>19.000000</td>\n",
              "      <td>70.000000</td>\n",
              "      <td>52.000000</td>\n",
              "      <td>1017.600000</td>\n",
              "      <td>1015.200000</td>\n",
              "      <td>16.700000</td>\n",
              "      <td>21.100000</td>\n",
              "      <td>0.000000</td>\n",
              "      <td>0.000000</td>\n",
              "    </tr>\n",
              "    <tr>\n",
              "      <th>75%</th>\n",
              "      <td>16.800000</td>\n",
              "      <td>28.200000</td>\n",
              "      <td>0.800000</td>\n",
              "      <td>48.000000</td>\n",
              "      <td>19.000000</td>\n",
              "      <td>24.000000</td>\n",
              "      <td>83.000000</td>\n",
              "      <td>66.000000</td>\n",
              "      <td>1022.400000</td>\n",
              "      <td>1020.000000</td>\n",
              "      <td>21.500000</td>\n",
              "      <td>26.400000</td>\n",
              "      <td>0.000000</td>\n",
              "      <td>0.000000</td>\n",
              "    </tr>\n",
              "    <tr>\n",
              "      <th>max</th>\n",
              "      <td>33.900000</td>\n",
              "      <td>48.100000</td>\n",
              "      <td>367.600000</td>\n",
              "      <td>135.000000</td>\n",
              "      <td>130.000000</td>\n",
              "      <td>87.000000</td>\n",
              "      <td>100.000000</td>\n",
              "      <td>100.000000</td>\n",
              "      <td>1041.000000</td>\n",
              "      <td>1039.600000</td>\n",
              "      <td>40.200000</td>\n",
              "      <td>46.700000</td>\n",
              "      <td>1.000000</td>\n",
              "      <td>1.000000</td>\n",
              "    </tr>\n",
              "  </tbody>\n",
              "</table>\n",
              "</div>"
            ],
            "text/plain": [
              "             MinTemp        MaxTemp       Rainfall  WindGustSpeed  \\\n",
              "count  139962.000000  140232.000000  139243.000000  132424.000000   \n",
              "mean       12.172039      23.211285       2.340711      39.993725   \n",
              "std         6.408711       7.129024       8.387726      13.589596   \n",
              "min        -8.500000      -4.800000       0.000000       6.000000   \n",
              "25%         7.600000      17.900000       0.000000      31.000000   \n",
              "50%        12.000000      22.600000       0.000000      39.000000   \n",
              "75%        16.800000      28.200000       0.800000      48.000000   \n",
              "max        33.900000      48.100000     367.600000     135.000000   \n",
              "\n",
              "        WindSpeed9am   WindSpeed3pm    Humidity9am    Humidity3pm  \\\n",
              "count  139532.000000  138277.000000  138929.000000  137134.000000   \n",
              "mean       14.045882      18.685450      68.821528      51.441240   \n",
              "std         8.873230       8.773953      19.075249      20.807944   \n",
              "min         0.000000       0.000000       0.000000       0.000000   \n",
              "25%         7.000000      13.000000      57.000000      36.000000   \n",
              "50%        13.000000      19.000000      70.000000      52.000000   \n",
              "75%        19.000000      24.000000      83.000000      66.000000   \n",
              "max       130.000000      87.000000     100.000000     100.000000   \n",
              "\n",
              "         Pressure9am    Pressure3pm        Temp9am        Temp3pm  \\\n",
              "count  127666.000000  127708.000000  139669.000000  137883.000000   \n",
              "mean     1017.658367    1015.263870      16.969569      21.672260   \n",
              "std         7.107772       7.038742       6.502860       6.948344   \n",
              "min       980.500000     977.100000      -7.200000      -5.400000   \n",
              "25%      1013.000000    1010.500000      12.200000      16.600000   \n",
              "50%      1017.600000    1015.200000      16.700000      21.100000   \n",
              "75%      1022.400000    1020.000000      21.500000      26.400000   \n",
              "max      1041.000000    1039.600000      40.200000      46.700000   \n",
              "\n",
              "           RainToday   RainTomorrow  \n",
              "count  139243.000000  140493.000000  \n",
              "mean        0.223250       0.223805  \n",
              "std         0.416426       0.416794  \n",
              "min         0.000000       0.000000  \n",
              "25%         0.000000       0.000000  \n",
              "50%         0.000000       0.000000  \n",
              "75%         0.000000       0.000000  \n",
              "max         1.000000       1.000000  "
            ]
          },
          "metadata": {
            "tags": []
          },
          "execution_count": 11
        }
      ]
    },
    {
      "metadata": {
        "id": "sJaj5SCwguue",
        "colab_type": "code",
        "outputId": "bff4ce49-879d-40f0-f28a-7b3b81ae2830",
        "colab": {
          "base_uri": "https://localhost:8080/",
          "height": 272
        }
      },
      "cell_type": "code",
      "source": [
        "# count how many non-null valeus each column has\n",
        "df.count().sort_values()"
      ],
      "execution_count": 0,
      "outputs": [
        {
          "output_type": "execute_result",
          "data": {
            "text/plain": [
              "Pressure9am      127666\n",
              "Pressure3pm      127708\n",
              "WindGustSpeed    132424\n",
              "Humidity3pm      137134\n",
              "Temp3pm          137883\n",
              "WindSpeed3pm     138277\n",
              "Humidity9am      138929\n",
              "Rainfall         139243\n",
              "RainToday        139243\n",
              "WindSpeed9am     139532\n",
              "Temp9am          139669\n",
              "MinTemp          139962\n",
              "MaxTemp          140232\n",
              "RainTomorrow     140493\n",
              "dtype: int64"
            ]
          },
          "metadata": {
            "tags": []
          },
          "execution_count": 76
        }
      ]
    },
    {
      "metadata": {
        "id": "-zrvmI3Hg4Fk",
        "colab_type": "code",
        "outputId": "bccf9b04-e73e-4caf-a1ae-041d56fe3f40",
        "colab": {
          "base_uri": "https://localhost:8080/",
          "height": 68
        }
      },
      "cell_type": "code",
      "source": [
        "# explore columns 'RainToday' and 'RainTomorrow'. They have two unique values: 'Yes' and 'No'.\n",
        "df['RainToday'].value_counts()"
      ],
      "execution_count": 0,
      "outputs": [
        {
          "output_type": "execute_result",
          "data": {
            "text/plain": [
              "0.0    108157\n",
              "1.0     31086\n",
              "Name: RainToday, dtype: int64"
            ]
          },
          "metadata": {
            "tags": []
          },
          "execution_count": 13
        }
      ]
    },
    {
      "metadata": {
        "id": "QBL5LMsig4K0",
        "colab_type": "code",
        "outputId": "a3714db2-9499-4d6d-b7b6-65ac98c92933",
        "colab": {
          "base_uri": "https://localhost:8080/",
          "height": 68
        }
      },
      "cell_type": "code",
      "source": [
        "df['RainTomorrow'].value_counts()"
      ],
      "execution_count": 0,
      "outputs": [
        {
          "output_type": "execute_result",
          "data": {
            "text/plain": [
              "0    109050\n",
              "1     31443\n",
              "Name: RainTomorrow, dtype: int64"
            ]
          },
          "metadata": {
            "tags": []
          },
          "execution_count": 14
        }
      ]
    },
    {
      "metadata": {
        "id": "AsPumouDhR9w",
        "colab_type": "text"
      },
      "cell_type": "markdown",
      "source": [
        "# Strategy 1: drop rows with nans"
      ]
    },
    {
      "metadata": {
        "id": "TdrTYE_Tg4J3",
        "colab_type": "code",
        "colab": {}
      },
      "cell_type": "code",
      "source": [
        "df_1=data_preprocessing.delete_nan_rows(df)\n",
        "df_1.shape"
      ],
      "execution_count": 0,
      "outputs": []
    },
    {
      "metadata": {
        "id": "JUffKdvQg4El",
        "colab_type": "code",
        "outputId": "52752f4e-6f22-4bbc-8d4c-2c09565bf519",
        "colab": {
          "base_uri": "https://localhost:8080/",
          "height": 340
        }
      },
      "cell_type": "code",
      "source": [
        "df_1.info()"
      ],
      "execution_count": 0,
      "outputs": [
        {
          "output_type": "stream",
          "text": [
            "<class 'pandas.core.frame.DataFrame'>\n",
            "Int64Index: 119590 entries, 0 to 140492\n",
            "Data columns (total 14 columns):\n",
            "MinTemp          119590 non-null float64\n",
            "MaxTemp          119590 non-null float64\n",
            "Rainfall         119590 non-null float64\n",
            "WindGustSpeed    119590 non-null float64\n",
            "WindSpeed9am     119590 non-null float64\n",
            "WindSpeed3pm     119590 non-null float64\n",
            "Humidity9am      119590 non-null float64\n",
            "Humidity3pm      119590 non-null float64\n",
            "Pressure9am      119590 non-null float64\n",
            "Pressure3pm      119590 non-null float64\n",
            "Temp9am          119590 non-null float64\n",
            "Temp3pm          119590 non-null float64\n",
            "RainToday        119590 non-null float64\n",
            "RainTomorrow     119590 non-null int64\n",
            "dtypes: float64(13), int64(1)\n",
            "memory usage: 13.7 MB\n"
          ],
          "name": "stdout"
        }
      ]
    },
    {
      "metadata": {
        "id": "44CbEEdAh2nG",
        "colab_type": "text"
      },
      "cell_type": "markdown",
      "source": [
        "use LogisticRegression as algorithm"
      ]
    },
    {
      "metadata": {
        "id": "DFVQC_dyhzjS",
        "colab_type": "code",
        "colab": {}
      },
      "cell_type": "code",
      "source": [
        "from sklearn.linear_model import LogisticRegression\n",
        "from sklearn.model_selection import train_test_split"
      ],
      "execution_count": 0,
      "outputs": []
    },
    {
      "metadata": {
        "id": "NmL6-frYjF07",
        "colab_type": "code",
        "colab": {}
      },
      "cell_type": "code",
      "source": [
        "def workflow(df):\n",
        "  X=df[df.columns[:-1]]\n",
        "  y=df['RainTomorrow']\n",
        "  X_train, X_test, y_train, y_test = train_test_split(X, y, test_size=0.3,random_state=42)\n",
        "  lr=LogisticRegression().fit(X_train,y_train)\n",
        "  y_pred=lr.predict(X_test)\n",
        "  return y_test,y_pred"
      ],
      "execution_count": 0,
      "outputs": []
    },
    {
      "metadata": {
        "id": "r1aezzx0iBSD",
        "colab_type": "code",
        "colab": {}
      },
      "cell_type": "code",
      "source": [
        "# calculate accuraccy\n",
        "def get_accuracy(y_true,y_pred):\n",
        "    matches=0\n",
        "    for i in range(len(y_true)):\n",
        "        if y_true[i]==y_pred[i]:\n",
        "            matches+=1\n",
        "    return matches/len(y_true)*100"
      ],
      "execution_count": 0,
      "outputs": []
    },
    {
      "metadata": {
        "id": "qW1_PdMnjcXW",
        "colab_type": "code",
        "outputId": "7bb70dd0-151e-4c39-b13b-b8389f69f8c5",
        "colab": {
          "base_uri": "https://localhost:8080/",
          "height": 71
        }
      },
      "cell_type": "code",
      "source": [
        "y_test,y_pred=workflow(df_1)"
      ],
      "execution_count": 0,
      "outputs": [
        {
          "output_type": "stream",
          "text": [
            "/usr/local/lib/python3.6/dist-packages/sklearn/linear_model/logistic.py:433: FutureWarning: Default solver will be changed to 'lbfgs' in 0.22. Specify a solver to silence this warning.\n",
            "  FutureWarning)\n"
          ],
          "name": "stderr"
        }
      ]
    },
    {
      "metadata": {
        "id": "2Ns9njh0iBLg",
        "colab_type": "code",
        "outputId": "833173dd-5a78-46f6-9104-f25474c31d17",
        "colab": {
          "base_uri": "https://localhost:8080/",
          "height": 34
        }
      },
      "cell_type": "code",
      "source": [
        "score=get_accuracy(list(y_test),y_pred)\n",
        "score"
      ],
      "execution_count": 0,
      "outputs": [
        {
          "output_type": "execute_result",
          "data": {
            "text/plain": [
              "85.00989491875018"
            ]
          },
          "metadata": {
            "tags": []
          },
          "execution_count": 24
        }
      ]
    },
    {
      "metadata": {
        "id": "eQIcRWe5j956",
        "colab_type": "text"
      },
      "cell_type": "markdown",
      "source": [
        "\n",
        "First strategy - 85.03 % accuracy"
      ]
    },
    {
      "metadata": {
        "id": "uYVpiDuQkHOP",
        "colab_type": "text"
      },
      "cell_type": "markdown",
      "source": [
        "# Strategy 2. Change misiing values to mean"
      ]
    },
    {
      "metadata": {
        "id": "GA_dyDDnkM3K",
        "colab_type": "code",
        "colab": {}
      },
      "cell_type": "code",
      "source": [
        "df_2=data_preprocessing.replace_null_values(df,replace_to='mean')"
      ],
      "execution_count": 0,
      "outputs": []
    },
    {
      "metadata": {
        "id": "KO2-whzi_NpU",
        "colab_type": "code",
        "outputId": "6e920b93-9d36-4a78-97c7-e97007daf847",
        "colab": {
          "base_uri": "https://localhost:8080/",
          "height": 340
        }
      },
      "cell_type": "code",
      "source": [
        "df_2.info()"
      ],
      "execution_count": 0,
      "outputs": [
        {
          "output_type": "stream",
          "text": [
            "<class 'pandas.core.frame.DataFrame'>\n",
            "RangeIndex: 140493 entries, 0 to 140492\n",
            "Data columns (total 14 columns):\n",
            "MinTemp          140493 non-null float64\n",
            "MaxTemp          140493 non-null float64\n",
            "Rainfall         140493 non-null float64\n",
            "WindGustSpeed    140493 non-null float64\n",
            "WindSpeed9am     140493 non-null float64\n",
            "WindSpeed3pm     140493 non-null float64\n",
            "Humidity9am      140493 non-null float64\n",
            "Humidity3pm      140493 non-null float64\n",
            "Pressure9am      140493 non-null float64\n",
            "Pressure3pm      140493 non-null float64\n",
            "Temp9am          140493 non-null float64\n",
            "Temp3pm          140493 non-null float64\n",
            "RainToday        140493 non-null float64\n",
            "RainTomorrow     140493 non-null float64\n",
            "dtypes: float64(14)\n",
            "memory usage: 15.0 MB\n"
          ],
          "name": "stdout"
        }
      ]
    },
    {
      "metadata": {
        "id": "e3bIsUZe_luZ",
        "colab_type": "code",
        "outputId": "81b28914-0aaf-4c2f-812c-f4d507d8cdf1",
        "colab": {
          "base_uri": "https://localhost:8080/",
          "height": 71
        }
      },
      "cell_type": "code",
      "source": [
        "y_test,y_pred=workflow(df_2)"
      ],
      "execution_count": 0,
      "outputs": [
        {
          "output_type": "stream",
          "text": [
            "/usr/local/lib/python3.6/dist-packages/sklearn/linear_model/logistic.py:433: FutureWarning: Default solver will be changed to 'lbfgs' in 0.22. Specify a solver to silence this warning.\n",
            "  FutureWarning)\n"
          ],
          "name": "stderr"
        }
      ]
    },
    {
      "metadata": {
        "id": "38nbsJYl_lzg",
        "colab_type": "code",
        "outputId": "4aa94aee-8e95-41f5-899e-cbb3a4544cb4",
        "colab": {
          "base_uri": "https://localhost:8080/",
          "height": 34
        }
      },
      "cell_type": "code",
      "source": [
        "score=get_accuracy(list(y_test),y_pred)\n",
        "score"
      ],
      "execution_count": 0,
      "outputs": [
        {
          "output_type": "execute_result",
          "data": {
            "text/plain": [
              "83.44642687672012"
            ]
          },
          "metadata": {
            "tags": []
          },
          "execution_count": 73
        }
      ]
    },
    {
      "metadata": {
        "id": "LmT3wx9MABI7",
        "colab_type": "text"
      },
      "cell_type": "markdown",
      "source": [
        "Second strategy - 83.44 % accuracy"
      ]
    },
    {
      "metadata": {
        "id": "2qYtSjeE_l5J",
        "colab_type": "code",
        "colab": {}
      },
      "cell_type": "code",
      "source": [
        ""
      ],
      "execution_count": 0,
      "outputs": []
    },
    {
      "metadata": {
        "id": "NEsTsFI5_l4E",
        "colab_type": "code",
        "colab": {}
      },
      "cell_type": "code",
      "source": [
        ""
      ],
      "execution_count": 0,
      "outputs": []
    },
    {
      "metadata": {
        "id": "4l5mDTaJ_lya",
        "colab_type": "code",
        "colab": {}
      },
      "cell_type": "code",
      "source": [
        ""
      ],
      "execution_count": 0,
      "outputs": []
    },
    {
      "metadata": {
        "id": "dpZwKoHw_ls6",
        "colab_type": "code",
        "colab": {}
      },
      "cell_type": "code",
      "source": [
        ""
      ],
      "execution_count": 0,
      "outputs": []
    },
    {
      "metadata": {
        "id": "pRu5LmcyBMD1",
        "colab_type": "text"
      },
      "cell_type": "markdown",
      "source": [
        "# Strategy 3. Replace by linear regression and use scaling to one scale"
      ]
    },
    {
      "metadata": {
        "id": "OcQM0XgmBXlv",
        "colab_type": "code",
        "colab": {}
      },
      "cell_type": "code",
      "source": [
        "\n",
        "# all columns has missing values, that's why we need to clean some of them and use them as train_data to linear regression\n",
        "df=data_preprocessing.replace_null_values(df,col=['MinTemp','MaxTemp'],replace_to='mean')"
      ],
      "execution_count": 0,
      "outputs": []
    },
    {
      "metadata": {
        "id": "dlb12EZBator",
        "colab_type": "code",
        "colab": {
          "base_uri": "https://localhost:8080/",
          "height": 340
        },
        "outputId": "59ade365-f172-4787-c35a-822216a8a543"
      },
      "cell_type": "code",
      "source": [
        "df.info()"
      ],
      "execution_count": 10,
      "outputs": [
        {
          "output_type": "stream",
          "text": [
            "<class 'pandas.core.frame.DataFrame'>\n",
            "RangeIndex: 140493 entries, 0 to 140492\n",
            "Data columns (total 14 columns):\n",
            "MinTemp          140493 non-null float64\n",
            "MaxTemp          140493 non-null float64\n",
            "Rainfall         139243 non-null float64\n",
            "WindGustSpeed    132424 non-null float64\n",
            "WindSpeed9am     139532 non-null float64\n",
            "WindSpeed3pm     138277 non-null float64\n",
            "Humidity9am      138929 non-null float64\n",
            "Humidity3pm      137134 non-null float64\n",
            "Pressure9am      127666 non-null float64\n",
            "Pressure3pm      127708 non-null float64\n",
            "Temp9am          139669 non-null float64\n",
            "Temp3pm          137883 non-null float64\n",
            "RainToday        139243 non-null float64\n",
            "RainTomorrow     140493 non-null float64\n",
            "dtypes: float64(14)\n",
            "memory usage: 15.0 MB\n"
          ],
          "name": "stdout"
        }
      ]
    },
    {
      "metadata": {
        "id": "HKCUbvR7a6pf",
        "colab_type": "code",
        "colab": {
          "base_uri": "https://localhost:8080/",
          "height": 139
        },
        "outputId": "46703cf2-41e8-4749-9e14-ba5650ebde12"
      },
      "cell_type": "code",
      "source": [
        "df = data_preprocessing.replace_null_by_linear_regression(df, 'Rainfall', col_based_on=['MinTemp', 'MaxTemp'])"
      ],
      "execution_count": 35,
      "outputs": [
        {
          "output_type": "stream",
          "text": [
            "/content/data_preprocessing.py:106: SettingWithCopyWarning: \n",
            "A value is trying to be set on a copy of a slice from a DataFrame.\n",
            "Try using .loc[row_indexer,col_indexer] = value instead\n",
            "\n",
            "See the caveats in the documentation: http://pandas.pydata.org/pandas-docs/stable/indexing.html#indexing-view-versus-copy\n",
            "  df_pred[target_column] = pred_values\n"
          ],
          "name": "stderr"
        }
      ]
    },
    {
      "metadata": {
        "id": "501HeXb-dgl6",
        "colab_type": "code",
        "colab": {}
      },
      "cell_type": "code",
      "source": [
        "columns=['WindGustSpeed','WindSpeed9am','WindSpeed3pm','Humidity9am','Humidity3pm','Pressure9am','Pressure3pm','Temp9am','Temp3pm','RainToday']"
      ],
      "execution_count": 0,
      "outputs": []
    },
    {
      "metadata": {
        "id": "ccHGkNCId8AW",
        "colab_type": "code",
        "colab": {}
      },
      "cell_type": "code",
      "source": [
        "for col in columns:\n",
        "  df=data_preprocessing.replace_null_by_linear_regression(df, col, col_based_on=['MinTemp', 'MaxTemp','Rainfall'])"
      ],
      "execution_count": 0,
      "outputs": []
    },
    {
      "metadata": {
        "id": "9gELjK8feew6",
        "colab_type": "code",
        "colab": {
          "base_uri": "https://localhost:8080/",
          "height": 340
        },
        "outputId": "69c450c4-6891-4ad6-a674-1a2badf81f0f"
      },
      "cell_type": "code",
      "source": [
        "# check \n",
        "df.info()"
      ],
      "execution_count": 38,
      "outputs": [
        {
          "output_type": "stream",
          "text": [
            "<class 'pandas.core.frame.DataFrame'>\n",
            "Int64Index: 140493 entries, 13860 to 140492\n",
            "Data columns (total 14 columns):\n",
            "MinTemp          140493 non-null float64\n",
            "MaxTemp          140493 non-null float64\n",
            "Rainfall         140493 non-null float64\n",
            "WindGustSpeed    140493 non-null float64\n",
            "WindSpeed9am     140493 non-null float64\n",
            "WindSpeed3pm     140493 non-null float64\n",
            "Humidity9am      140493 non-null float64\n",
            "Humidity3pm      140493 non-null float64\n",
            "Pressure9am      140493 non-null float64\n",
            "Pressure3pm      140493 non-null float64\n",
            "Temp9am          140493 non-null float64\n",
            "Temp3pm          140493 non-null float64\n",
            "RainToday        140493 non-null float64\n",
            "RainTomorrow     140493 non-null float64\n",
            "dtypes: float64(14)\n",
            "memory usage: 16.1 MB\n"
          ],
          "name": "stdout"
        }
      ]
    },
    {
      "metadata": {
        "id": "u3lN4Vl-fcEx",
        "colab_type": "code",
        "colab": {
          "base_uri": "https://localhost:8080/",
          "height": 309
        },
        "outputId": "d94f3056-a31e-49a7-cf65-087af6539463"
      },
      "cell_type": "code",
      "source": [
        "df.head()"
      ],
      "execution_count": 29,
      "outputs": [
        {
          "output_type": "execute_result",
          "data": {
            "text/html": [
              "<div>\n",
              "<style scoped>\n",
              "    .dataframe tbody tr th:only-of-type {\n",
              "        vertical-align: middle;\n",
              "    }\n",
              "\n",
              "    .dataframe tbody tr th {\n",
              "        vertical-align: top;\n",
              "    }\n",
              "\n",
              "    .dataframe thead th {\n",
              "        text-align: right;\n",
              "    }\n",
              "</style>\n",
              "<table border=\"1\" class=\"dataframe\">\n",
              "  <thead>\n",
              "    <tr style=\"text-align: right;\">\n",
              "      <th></th>\n",
              "      <th>MinTemp</th>\n",
              "      <th>MaxTemp</th>\n",
              "      <th>Rainfall</th>\n",
              "      <th>WindGustSpeed</th>\n",
              "      <th>WindSpeed9am</th>\n",
              "      <th>WindSpeed3pm</th>\n",
              "      <th>Humidity9am</th>\n",
              "      <th>Humidity3pm</th>\n",
              "      <th>Pressure9am</th>\n",
              "      <th>Pressure3pm</th>\n",
              "      <th>Temp9am</th>\n",
              "      <th>Temp3pm</th>\n",
              "      <th>RainToday</th>\n",
              "      <th>RainTomorrow</th>\n",
              "    </tr>\n",
              "  </thead>\n",
              "  <tbody>\n",
              "    <tr>\n",
              "      <th>13860</th>\n",
              "      <td>0.0</td>\n",
              "      <td>4.988103e-16</td>\n",
              "      <td>-5.316570e-17</td>\n",
              "      <td>0.000000</td>\n",
              "      <td>-2.008238e-16</td>\n",
              "      <td>0.000000</td>\n",
              "      <td>-7.466634e-16</td>\n",
              "      <td>-1.027686e-15</td>\n",
              "      <td>0.000000</td>\n",
              "      <td>-3.335050e-14</td>\n",
              "      <td>0.000000</td>\n",
              "      <td>0.000000</td>\n",
              "      <td>0.000000</td>\n",
              "      <td>1.862305</td>\n",
              "    </tr>\n",
              "    <tr>\n",
              "      <th>14000</th>\n",
              "      <td>0.0</td>\n",
              "      <td>3.213416e-01</td>\n",
              "      <td>-1.062915e-01</td>\n",
              "      <td>-0.045707</td>\n",
              "      <td>-8.112059e-02</td>\n",
              "      <td>-0.055588</td>\n",
              "      <td>-2.339922e-01</td>\n",
              "      <td>-3.595551e-01</td>\n",
              "      <td>-0.002581</td>\n",
              "      <td>-6.576839e-02</td>\n",
              "      <td>0.157002</td>\n",
              "      <td>0.322997</td>\n",
              "      <td>-0.189250</td>\n",
              "      <td>1.862305</td>\n",
              "    </tr>\n",
              "    <tr>\n",
              "      <th>14187</th>\n",
              "      <td>0.0</td>\n",
              "      <td>7.285092e-01</td>\n",
              "      <td>-2.409720e-01</td>\n",
              "      <td>-0.103623</td>\n",
              "      <td>-1.839074e-01</td>\n",
              "      <td>-0.126024</td>\n",
              "      <td>-5.304806e-01</td>\n",
              "      <td>-8.151424e-01</td>\n",
              "      <td>-0.005851</td>\n",
              "      <td>-1.491026e-01</td>\n",
              "      <td>0.355937</td>\n",
              "      <td>0.732262</td>\n",
              "      <td>-0.429045</td>\n",
              "      <td>-0.536969</td>\n",
              "    </tr>\n",
              "    <tr>\n",
              "      <th>14292</th>\n",
              "      <td>0.0</td>\n",
              "      <td>-3.806715e-01</td>\n",
              "      <td>1.259163e-01</td>\n",
              "      <td>0.054147</td>\n",
              "      <td>9.609803e-02</td>\n",
              "      <td>0.065852</td>\n",
              "      <td>2.771947e-01</td>\n",
              "      <td>4.259404e-01</td>\n",
              "      <td>0.003058</td>\n",
              "      <td>7.791134e-02</td>\n",
              "      <td>-0.185990</td>\n",
              "      <td>-0.382632</td>\n",
              "      <td>0.224191</td>\n",
              "      <td>1.862305</td>\n",
              "    </tr>\n",
              "    <tr>\n",
              "      <th>14427</th>\n",
              "      <td>0.0</td>\n",
              "      <td>1.627086e+00</td>\n",
              "      <td>-5.381979e-01</td>\n",
              "      <td>-0.231436</td>\n",
              "      <td>-4.107472e-01</td>\n",
              "      <td>-0.281467</td>\n",
              "      <td>-1.184800e+00</td>\n",
              "      <td>-1.820577e+00</td>\n",
              "      <td>-0.013069</td>\n",
              "      <td>-3.330127e-01</td>\n",
              "      <td>0.794967</td>\n",
              "      <td>1.635467</td>\n",
              "      <td>-0.958249</td>\n",
              "      <td>1.862305</td>\n",
              "    </tr>\n",
              "  </tbody>\n",
              "</table>\n",
              "</div>"
            ],
            "text/plain": [
              "       MinTemp       MaxTemp      Rainfall  WindGustSpeed  WindSpeed9am  \\\n",
              "13860      0.0  4.988103e-16 -5.316570e-17       0.000000 -2.008238e-16   \n",
              "14000      0.0  3.213416e-01 -1.062915e-01      -0.045707 -8.112059e-02   \n",
              "14187      0.0  7.285092e-01 -2.409720e-01      -0.103623 -1.839074e-01   \n",
              "14292      0.0 -3.806715e-01  1.259163e-01       0.054147  9.609803e-02   \n",
              "14427      0.0  1.627086e+00 -5.381979e-01      -0.231436 -4.107472e-01   \n",
              "\n",
              "       WindSpeed3pm   Humidity9am   Humidity3pm  Pressure9am   Pressure3pm  \\\n",
              "13860      0.000000 -7.466634e-16 -1.027686e-15     0.000000 -3.335050e-14   \n",
              "14000     -0.055588 -2.339922e-01 -3.595551e-01    -0.002581 -6.576839e-02   \n",
              "14187     -0.126024 -5.304806e-01 -8.151424e-01    -0.005851 -1.491026e-01   \n",
              "14292      0.065852  2.771947e-01  4.259404e-01     0.003058  7.791134e-02   \n",
              "14427     -0.281467 -1.184800e+00 -1.820577e+00    -0.013069 -3.330127e-01   \n",
              "\n",
              "        Temp9am   Temp3pm  RainToday  RainTomorrow  \n",
              "13860  0.000000  0.000000   0.000000      1.862305  \n",
              "14000  0.157002  0.322997  -0.189250      1.862305  \n",
              "14187  0.355937  0.732262  -0.429045     -0.536969  \n",
              "14292 -0.185990 -0.382632   0.224191      1.862305  \n",
              "14427  0.794967  1.635467  -0.958249      1.862305  "
            ]
          },
          "metadata": {
            "tags": []
          },
          "execution_count": 29
        }
      ]
    },
    {
      "metadata": {
        "id": "n4AM8TvSeklV",
        "colab_type": "code",
        "colab": {
          "base_uri": "https://localhost:8080/",
          "height": 173
        },
        "outputId": "80e24ce6-5a49-42ec-f1b4-455376062265"
      },
      "cell_type": "code",
      "source": [
        "X=df[df.columns[:-1]]\n",
        "# scaling data using standart scaler -  (x[i]-mean)/std\n",
        "X=data_preprocessing.standart_scaler(X)\n",
        "y=df['RainTomorrow']\n",
        "X_train, X_test, y_train, y_test = train_test_split(X, y, test_size=0.3,random_state=42)\n",
        "lr=LogisticRegression().fit(X_train,y_train)\n",
        "y_pred=lr.predict(X_test)\n"
      ],
      "execution_count": 40,
      "outputs": [
        {
          "output_type": "stream",
          "text": [
            "/content/data_preprocessing.py:79: SettingWithCopyWarning: \n",
            "A value is trying to be set on a copy of a slice from a DataFrame.\n",
            "Try using .loc[row_indexer,col_indexer] = value instead\n",
            "\n",
            "See the caveats in the documentation: http://pandas.pydata.org/pandas-docs/stable/indexing.html#indexing-view-versus-copy\n",
            "  df[column] = (df[column] - mean) / std\n",
            "/usr/local/lib/python3.6/dist-packages/sklearn/linear_model/logistic.py:433: FutureWarning: Default solver will be changed to 'lbfgs' in 0.22. Specify a solver to silence this warning.\n",
            "  FutureWarning)\n"
          ],
          "name": "stderr"
        }
      ]
    },
    {
      "metadata": {
        "id": "U1osHr-Vgm-6",
        "colab_type": "code",
        "colab": {
          "base_uri": "https://localhost:8080/",
          "height": 309
        },
        "outputId": "8bb818b3-d138-4c94-b95b-126da417b981"
      },
      "cell_type": "code",
      "source": [
        "X.head()"
      ],
      "execution_count": 41,
      "outputs": [
        {
          "output_type": "execute_result",
          "data": {
            "text/html": [
              "<div>\n",
              "<style scoped>\n",
              "    .dataframe tbody tr th:only-of-type {\n",
              "        vertical-align: middle;\n",
              "    }\n",
              "\n",
              "    .dataframe tbody tr th {\n",
              "        vertical-align: top;\n",
              "    }\n",
              "\n",
              "    .dataframe thead th {\n",
              "        text-align: right;\n",
              "    }\n",
              "</style>\n",
              "<table border=\"1\" class=\"dataframe\">\n",
              "  <thead>\n",
              "    <tr style=\"text-align: right;\">\n",
              "      <th></th>\n",
              "      <th>MinTemp</th>\n",
              "      <th>MaxTemp</th>\n",
              "      <th>Rainfall</th>\n",
              "      <th>WindGustSpeed</th>\n",
              "      <th>WindSpeed9am</th>\n",
              "      <th>WindSpeed3pm</th>\n",
              "      <th>Humidity9am</th>\n",
              "      <th>Humidity3pm</th>\n",
              "      <th>Pressure9am</th>\n",
              "      <th>Pressure3pm</th>\n",
              "      <th>Temp9am</th>\n",
              "      <th>Temp3pm</th>\n",
              "      <th>RainToday</th>\n",
              "    </tr>\n",
              "  </thead>\n",
              "  <tbody>\n",
              "    <tr>\n",
              "      <th>13860</th>\n",
              "      <td>0.0</td>\n",
              "      <td>4.988103e-16</td>\n",
              "      <td>-5.316570e-17</td>\n",
              "      <td>0.000000</td>\n",
              "      <td>-2.008238e-16</td>\n",
              "      <td>0.000000</td>\n",
              "      <td>-7.466634e-16</td>\n",
              "      <td>-1.027686e-15</td>\n",
              "      <td>0.000000</td>\n",
              "      <td>-3.335050e-14</td>\n",
              "      <td>0.000000</td>\n",
              "      <td>0.000000</td>\n",
              "      <td>0.000000</td>\n",
              "    </tr>\n",
              "    <tr>\n",
              "      <th>14000</th>\n",
              "      <td>0.0</td>\n",
              "      <td>3.213416e-01</td>\n",
              "      <td>-1.062915e-01</td>\n",
              "      <td>-0.045707</td>\n",
              "      <td>-8.112059e-02</td>\n",
              "      <td>-0.055588</td>\n",
              "      <td>-2.339922e-01</td>\n",
              "      <td>-3.595551e-01</td>\n",
              "      <td>-0.002581</td>\n",
              "      <td>-6.576839e-02</td>\n",
              "      <td>0.157002</td>\n",
              "      <td>0.322997</td>\n",
              "      <td>-0.189250</td>\n",
              "    </tr>\n",
              "    <tr>\n",
              "      <th>14187</th>\n",
              "      <td>0.0</td>\n",
              "      <td>7.285092e-01</td>\n",
              "      <td>-2.409720e-01</td>\n",
              "      <td>-0.103623</td>\n",
              "      <td>-1.839074e-01</td>\n",
              "      <td>-0.126024</td>\n",
              "      <td>-5.304806e-01</td>\n",
              "      <td>-8.151424e-01</td>\n",
              "      <td>-0.005851</td>\n",
              "      <td>-1.491026e-01</td>\n",
              "      <td>0.355937</td>\n",
              "      <td>0.732262</td>\n",
              "      <td>-0.429045</td>\n",
              "    </tr>\n",
              "    <tr>\n",
              "      <th>14292</th>\n",
              "      <td>0.0</td>\n",
              "      <td>-3.806715e-01</td>\n",
              "      <td>1.259163e-01</td>\n",
              "      <td>0.054147</td>\n",
              "      <td>9.609803e-02</td>\n",
              "      <td>0.065852</td>\n",
              "      <td>2.771947e-01</td>\n",
              "      <td>4.259404e-01</td>\n",
              "      <td>0.003058</td>\n",
              "      <td>7.791134e-02</td>\n",
              "      <td>-0.185990</td>\n",
              "      <td>-0.382632</td>\n",
              "      <td>0.224191</td>\n",
              "    </tr>\n",
              "    <tr>\n",
              "      <th>14427</th>\n",
              "      <td>0.0</td>\n",
              "      <td>1.627086e+00</td>\n",
              "      <td>-5.381979e-01</td>\n",
              "      <td>-0.231436</td>\n",
              "      <td>-4.107472e-01</td>\n",
              "      <td>-0.281467</td>\n",
              "      <td>-1.184800e+00</td>\n",
              "      <td>-1.820577e+00</td>\n",
              "      <td>-0.013069</td>\n",
              "      <td>-3.330127e-01</td>\n",
              "      <td>0.794967</td>\n",
              "      <td>1.635467</td>\n",
              "      <td>-0.958249</td>\n",
              "    </tr>\n",
              "  </tbody>\n",
              "</table>\n",
              "</div>"
            ],
            "text/plain": [
              "       MinTemp       MaxTemp      Rainfall  WindGustSpeed  WindSpeed9am  \\\n",
              "13860      0.0  4.988103e-16 -5.316570e-17       0.000000 -2.008238e-16   \n",
              "14000      0.0  3.213416e-01 -1.062915e-01      -0.045707 -8.112059e-02   \n",
              "14187      0.0  7.285092e-01 -2.409720e-01      -0.103623 -1.839074e-01   \n",
              "14292      0.0 -3.806715e-01  1.259163e-01       0.054147  9.609803e-02   \n",
              "14427      0.0  1.627086e+00 -5.381979e-01      -0.231436 -4.107472e-01   \n",
              "\n",
              "       WindSpeed3pm   Humidity9am   Humidity3pm  Pressure9am   Pressure3pm  \\\n",
              "13860      0.000000 -7.466634e-16 -1.027686e-15     0.000000 -3.335050e-14   \n",
              "14000     -0.055588 -2.339922e-01 -3.595551e-01    -0.002581 -6.576839e-02   \n",
              "14187     -0.126024 -5.304806e-01 -8.151424e-01    -0.005851 -1.491026e-01   \n",
              "14292      0.065852  2.771947e-01  4.259404e-01     0.003058  7.791134e-02   \n",
              "14427     -0.281467 -1.184800e+00 -1.820577e+00    -0.013069 -3.330127e-01   \n",
              "\n",
              "        Temp9am   Temp3pm  RainToday  \n",
              "13860  0.000000  0.000000   0.000000  \n",
              "14000  0.157002  0.322997  -0.189250  \n",
              "14187  0.355937  0.732262  -0.429045  \n",
              "14292 -0.185990 -0.382632   0.224191  \n",
              "14427  0.794967  1.635467  -0.958249  "
            ]
          },
          "metadata": {
            "tags": []
          },
          "execution_count": 41
        }
      ]
    },
    {
      "metadata": {
        "id": "MegIt0gfekrP",
        "colab_type": "code",
        "colab": {
          "base_uri": "https://localhost:8080/",
          "height": 34
        },
        "outputId": "13154bab-b1f6-4f83-b67c-4b8255ab1853"
      },
      "cell_type": "code",
      "source": [
        "score=get_accuracy(list(y_test),y_pred)\n",
        "score"
      ],
      "execution_count": 42,
      "outputs": [
        {
          "output_type": "execute_result",
          "data": {
            "text/plain": [
              "84.08939925975135"
            ]
          },
          "metadata": {
            "tags": []
          },
          "execution_count": 42
        }
      ]
    },
    {
      "metadata": {
        "id": "x7n_uWCpg3nu",
        "colab_type": "text"
      },
      "cell_type": "markdown",
      "source": [
        "Third strategy - 84.089 % accuracy"
      ]
    },
    {
      "metadata": {
        "id": "6B5n-ETshyuf",
        "colab_type": "text"
      },
      "cell_type": "markdown",
      "source": [
        "# Strategy 4: replace by knn and scale using min max scaler"
      ]
    },
    {
      "metadata": {
        "id": "wa-5blNyh8nc",
        "colab_type": "code",
        "colab": {}
      },
      "cell_type": "code",
      "source": [
        "\n",
        "# all columns has missing values, that's why we need to clean some of them and use them as train_data to knn\n",
        "df=data_preprocessing.replace_null_values(df,col=['MinTemp','MaxTemp'],replace_to='mean')"
      ],
      "execution_count": 0,
      "outputs": []
    },
    {
      "metadata": {
        "id": "78enhXx7l8VG",
        "colab_type": "code",
        "colab": {}
      },
      "cell_type": "code",
      "source": [
        "columns=['Rainfall','WindGustSpeed','WindSpeed9am','WindSpeed3pm','Humidity9am','Humidity3pm','Pressure9am','Pressure3pm','Temp9am','Temp3pm','RainToday']\n",
        "for column in columns:\n",
        "  df=knn.knn(df,column,k=5)"
      ],
      "execution_count": 0,
      "outputs": []
    },
    {
      "metadata": {
        "id": "Z9etBcqtmvV9",
        "colab_type": "code",
        "colab": {
          "base_uri": "https://localhost:8080/",
          "height": 340
        },
        "outputId": "29c4e4a9-ad2b-45dc-ec28-7087fb10e27b"
      },
      "cell_type": "code",
      "source": [
        "# check knn\n",
        "df.info()"
      ],
      "execution_count": 50,
      "outputs": [
        {
          "output_type": "stream",
          "text": [
            "<class 'pandas.core.frame.DataFrame'>\n",
            "RangeIndex: 140493 entries, 0 to 140492\n",
            "Data columns (total 14 columns):\n",
            "MinTemp          140493 non-null float64\n",
            "MaxTemp          140493 non-null float64\n",
            "Rainfall         140493 non-null float64\n",
            "WindGustSpeed    140493 non-null float64\n",
            "WindSpeed9am     140493 non-null float64\n",
            "WindSpeed3pm     140493 non-null float64\n",
            "Humidity9am      140493 non-null float64\n",
            "Humidity3pm      140493 non-null float64\n",
            "Pressure9am      140493 non-null float64\n",
            "Pressure3pm      140493 non-null float64\n",
            "Temp9am          140493 non-null float64\n",
            "Temp3pm          140493 non-null float64\n",
            "RainToday        140493 non-null float64\n",
            "RainTomorrow     140493 non-null float64\n",
            "dtypes: float64(14)\n",
            "memory usage: 15.0 MB\n"
          ],
          "name": "stdout"
        }
      ]
    },
    {
      "metadata": {
        "id": "gFuajX9lqOQD",
        "colab_type": "code",
        "colab": {}
      },
      "cell_type": "code",
      "source": [
        "# use min_max scaler\n",
        "X=df[df.columns[:-1]]\n",
        "# scaling data using standart scaler -  (x[i]-mean)/std\n",
        "X=data_preprocessing.min_max_scaler(X)\n",
        "y=df['RainTomorrow']\n",
        "X_train, X_test, y_train, y_test = train_test_split(X, y, test_size=0.3,random_state=42)\n",
        "lr=LogisticRegression().fit(X_train,y_train)\n",
        "y_pred=lr.predict(X_test)\n"
      ],
      "execution_count": 0,
      "outputs": []
    },
    {
      "metadata": {
        "id": "mmjo58IjqY5R",
        "colab_type": "code",
        "colab": {
          "base_uri": "https://localhost:8080/",
          "height": 34
        },
        "outputId": "6a3d4d91-b444-440a-868c-5ab43c7d6579"
      },
      "cell_type": "code",
      "source": [
        "score=get_accuracy(list(y_test),y_pred)\n",
        "score"
      ],
      "execution_count": 52,
      "outputs": [
        {
          "output_type": "execute_result",
          "data": {
            "text/plain": [
              "83.68131346683117"
            ]
          },
          "metadata": {
            "tags": []
          },
          "execution_count": 52
        }
      ]
    },
    {
      "metadata": {
        "id": "m6J9DTowqevz",
        "colab_type": "text"
      },
      "cell_type": "markdown",
      "source": [
        "strategy 4: accuracy - 83.681\n"
      ]
    },
    {
      "metadata": {
        "id": "heerFtl3qtTG",
        "colab_type": "text"
      },
      "cell_type": "markdown",
      "source": [
        "# Conclusion"
      ]
    },
    {
      "metadata": {
        "id": "iC9npDcMq4Xb",
        "colab_type": "text"
      },
      "cell_type": "markdown",
      "source": [
        "1. 4 strategies were tried.\n",
        "2. Best one is to drop rows with missing values and it has accuracy around 85%.\n",
        "3. Other strategies give accuracy around 83-84%.\n",
        "4. My methods work much slower than pandas functions:)\n",
        "That's all!"
      ]
    }
  ]
}